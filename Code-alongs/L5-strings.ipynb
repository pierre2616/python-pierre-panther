{
 "cells": [
  {
   "cell_type": "markdown",
   "metadata": {},
   "source": [
    "# Strings"
   ]
  },
  {
   "cell_type": "code",
   "execution_count": 2,
   "metadata": {},
   "outputs": [
    {
     "ename": "SyntaxError",
     "evalue": "invalid syntax (2017933352.py, line 16)",
     "output_type": "error",
     "traceback": [
      "\u001b[1;36m  Input \u001b[1;32mIn [2]\u001b[1;36m\u001b[0m\n\u001b[1;33m    Name: {name},\u001b[0m\n\u001b[1;37m                ^\u001b[0m\n\u001b[1;31mSyntaxError\u001b[0m\u001b[1;31m:\u001b[0m invalid syntax\n"
     ]
    }
   ],
   "source": [
    "firstname = \"Pierre\"\n",
    "lastname = \"Panther\"\n",
    "\n",
    "# concatenate strings\n",
    "\n",
    "name = firstname +\"\"+ lastname\n",
    "age = 32\n",
    "address = \"göteborg\"\n",
    "phone = \"112\"\n",
    "\n",
    "print(name)\n",
    "\n",
    "\n",
    "# multiline f-string\n",
    "contact = f\"\"\n",
    "Name: {name},\n",
    "Age: {age},\n",
    "Address: {address},\n",
    "Phone: {phone}\n",
    "\"\"\"\n",
    "\n",
    "print (contact)\n",
    "\n"
   ]
  },
  {
   "cell_type": "markdown",
   "metadata": {},
   "source": [
    "## Iterate through lists and concatenates"
   ]
  },
  {
   "cell_type": "code",
   "execution_count": 3,
   "metadata": {},
   "outputs": [
    {
     "name": "stdout",
     "output_type": "stream",
     "text": [
      "Plan \n",
      "Må: AI intro\n",
      "Ti: Python\n",
      "On: Matte\n",
      "To: Självplugg\n",
      "Fr: chilla\n",
      "\n"
     ]
    }
   ],
   "source": [
    "schedule = [\"AI intro\", \"Python\", \"Matte\", \"Självplugg\", \"chilla\"]\n",
    "days = [\"Må\", \"Ti\", \"On\", \"To\", \"Fr\"]\n",
    "\n",
    "# \\n => newline\n",
    "week_plan = \"Plan \\n\"\n",
    "\n",
    "# Plan\n",
    "#Må: AI intro\n",
    "#Ti: Python\n",
    "#...\n",
    "\n",
    "for day, task in zip(days, schedule):\n",
    "    week_plan += f\"{day}: {task}\\n\"\n",
    "\n",
    "print(week_plan)"
   ]
  },
  {
   "cell_type": "markdown",
   "metadata": {},
   "source": [
    "## Indexing"
   ]
  },
  {
   "cell_type": "code",
   "execution_count": 12,
   "metadata": {},
   "outputs": [
    {
     "name": "stdout",
     "output_type": "stream",
     "text": [
      "quote[0]='!'\n",
      "quote[:6]='!False'\n",
      "quote[-4:]='true'\n",
      "Backwards: quote[::-1]='eurt s´ti esuaceb ynnuf s´ti - eslaF!'\n",
      "Length of string: 37 characters\n"
     ]
    }
   ],
   "source": [
    "quote = \"!False - it´s funny because it´s true\"\n",
    "\n",
    "print (f\"{quote[0]=}\")\n",
    "print (f\"{quote[:6]=}\")\n",
    "print (f\"{quote[-4:]=}\")\n",
    "\n",
    "print (f\"Backwards: {quote[::-1]=}\")\n",
    "\n",
    "print (f\"Length of string: {len(quote)} characters\")"
   ]
  },
  {
   "cell_type": "markdown",
   "metadata": {},
   "source": [
    "## Split strings"
   ]
  },
  {
   "cell_type": "code",
   "execution_count": 13,
   "metadata": {},
   "outputs": [
    {
     "ename": "ValueError",
     "evalue": "could not convert string to float: ''",
     "output_type": "error",
     "traceback": [
      "\u001b[1;31m---------------------------------------------------------------------------\u001b[0m",
      "\u001b[1;31mValueError\u001b[0m                                Traceback (most recent call last)",
      "\u001b[1;32mc:\\Users\\pierr\\OneDrive\\Documents\\Github\\python-pierre-pantnher\\Code-alongs\\L5-strings.ipynb Cell 8\u001b[0m in \u001b[0;36m<cell line: 9>\u001b[1;34m()\u001b[0m\n\u001b[0;32m      <a href='vscode-notebook-cell:/c%3A/Users/pierr/OneDrive/Documents/Github/python-pierre-pantnher/Code-alongs/L5-strings.ipynb#X14sZmlsZQ%3D%3D?line=3'>4</a>\u001b[0m numbers \u001b[39m=\u001b[39m \u001b[39minput\u001b[39m(\u001b[39m\"\u001b[39m\u001b[39mAnge tre tal (separerade med kommatecken): \u001b[39m\u001b[39m\"\u001b[39m)\n\u001b[0;32m      <a href='vscode-notebook-cell:/c%3A/Users/pierr/OneDrive/Documents/Github/python-pierre-pantnher/Code-alongs/L5-strings.ipynb#X14sZmlsZQ%3D%3D?line=4'>5</a>\u001b[0m \u001b[39m# 1. split the string into a list of 3 strings\u001b[39;00m\n\u001b[0;32m      <a href='vscode-notebook-cell:/c%3A/Users/pierr/OneDrive/Documents/Github/python-pierre-pantnher/Code-alongs/L5-strings.ipynb#X14sZmlsZQ%3D%3D?line=5'>6</a>\u001b[0m \u001b[39m# 2. type convert each string into a float by interating through the list\u001b[39;00m\n\u001b[0;32m      <a href='vscode-notebook-cell:/c%3A/Users/pierr/OneDrive/Documents/Github/python-pierre-pantnher/Code-alongs/L5-strings.ipynb#X14sZmlsZQ%3D%3D?line=6'>7</a>\u001b[0m \n\u001b[0;32m      <a href='vscode-notebook-cell:/c%3A/Users/pierr/OneDrive/Documents/Github/python-pierre-pantnher/Code-alongs/L5-strings.ipynb#X14sZmlsZQ%3D%3D?line=7'>8</a>\u001b[0m \u001b[39m# List comprehension\u001b[39;00m\n\u001b[1;32m----> <a href='vscode-notebook-cell:/c%3A/Users/pierr/OneDrive/Documents/Github/python-pierre-pantnher/Code-alongs/L5-strings.ipynb#X14sZmlsZQ%3D%3D?line=8'>9</a>\u001b[0m numbers \u001b[39m=\u001b[39m [\u001b[39mfloat\u001b[39m(number) \u001b[39mfor\u001b[39;00m number \u001b[39min\u001b[39;00m numbers\u001b[39m.\u001b[39msplit(\u001b[39m\"\u001b[39m\u001b[39m,\u001b[39m\u001b[39m\"\u001b[39m)]\n\u001b[0;32m     <a href='vscode-notebook-cell:/c%3A/Users/pierr/OneDrive/Documents/Github/python-pierre-pantnher/Code-alongs/L5-strings.ipynb#X14sZmlsZQ%3D%3D?line=9'>10</a>\u001b[0m mean_vaule \u001b[39m=\u001b[39m \u001b[39msum\u001b[39m(numbers)\u001b[39m/\u001b[39m\u001b[39mlen\u001b[39m(numbers)\n\u001b[0;32m     <a href='vscode-notebook-cell:/c%3A/Users/pierr/OneDrive/Documents/Github/python-pierre-pantnher/Code-alongs/L5-strings.ipynb#X14sZmlsZQ%3D%3D?line=10'>11</a>\u001b[0m \u001b[39mprint\u001b[39m(\u001b[39mf\u001b[39m\u001b[39m\"\u001b[39m\u001b[39m{\u001b[39;00mnumbers\u001b[39m=}\u001b[39;00m\u001b[39m\"\u001b[39m)\n",
      "\u001b[1;32mc:\\Users\\pierr\\OneDrive\\Documents\\Github\\python-pierre-pantnher\\Code-alongs\\L5-strings.ipynb Cell 8\u001b[0m in \u001b[0;36m<listcomp>\u001b[1;34m(.0)\u001b[0m\n\u001b[0;32m      <a href='vscode-notebook-cell:/c%3A/Users/pierr/OneDrive/Documents/Github/python-pierre-pantnher/Code-alongs/L5-strings.ipynb#X14sZmlsZQ%3D%3D?line=3'>4</a>\u001b[0m numbers \u001b[39m=\u001b[39m \u001b[39minput\u001b[39m(\u001b[39m\"\u001b[39m\u001b[39mAnge tre tal (separerade med kommatecken): \u001b[39m\u001b[39m\"\u001b[39m)\n\u001b[0;32m      <a href='vscode-notebook-cell:/c%3A/Users/pierr/OneDrive/Documents/Github/python-pierre-pantnher/Code-alongs/L5-strings.ipynb#X14sZmlsZQ%3D%3D?line=4'>5</a>\u001b[0m \u001b[39m# 1. split the string into a list of 3 strings\u001b[39;00m\n\u001b[0;32m      <a href='vscode-notebook-cell:/c%3A/Users/pierr/OneDrive/Documents/Github/python-pierre-pantnher/Code-alongs/L5-strings.ipynb#X14sZmlsZQ%3D%3D?line=5'>6</a>\u001b[0m \u001b[39m# 2. type convert each string into a float by interating through the list\u001b[39;00m\n\u001b[0;32m      <a href='vscode-notebook-cell:/c%3A/Users/pierr/OneDrive/Documents/Github/python-pierre-pantnher/Code-alongs/L5-strings.ipynb#X14sZmlsZQ%3D%3D?line=6'>7</a>\u001b[0m \n\u001b[0;32m      <a href='vscode-notebook-cell:/c%3A/Users/pierr/OneDrive/Documents/Github/python-pierre-pantnher/Code-alongs/L5-strings.ipynb#X14sZmlsZQ%3D%3D?line=7'>8</a>\u001b[0m \u001b[39m# List comprehension\u001b[39;00m\n\u001b[1;32m----> <a href='vscode-notebook-cell:/c%3A/Users/pierr/OneDrive/Documents/Github/python-pierre-pantnher/Code-alongs/L5-strings.ipynb#X14sZmlsZQ%3D%3D?line=8'>9</a>\u001b[0m numbers \u001b[39m=\u001b[39m [\u001b[39mfloat\u001b[39;49m(number) \u001b[39mfor\u001b[39;00m number \u001b[39min\u001b[39;00m numbers\u001b[39m.\u001b[39msplit(\u001b[39m\"\u001b[39m\u001b[39m,\u001b[39m\u001b[39m\"\u001b[39m)]\n\u001b[0;32m     <a href='vscode-notebook-cell:/c%3A/Users/pierr/OneDrive/Documents/Github/python-pierre-pantnher/Code-alongs/L5-strings.ipynb#X14sZmlsZQ%3D%3D?line=9'>10</a>\u001b[0m mean_vaule \u001b[39m=\u001b[39m \u001b[39msum\u001b[39m(numbers)\u001b[39m/\u001b[39m\u001b[39mlen\u001b[39m(numbers)\n\u001b[0;32m     <a href='vscode-notebook-cell:/c%3A/Users/pierr/OneDrive/Documents/Github/python-pierre-pantnher/Code-alongs/L5-strings.ipynb#X14sZmlsZQ%3D%3D?line=10'>11</a>\u001b[0m \u001b[39mprint\u001b[39m(\u001b[39mf\u001b[39m\u001b[39m\"\u001b[39m\u001b[39m{\u001b[39;00mnumbers\u001b[39m=}\u001b[39;00m\u001b[39m\"\u001b[39m)\n",
      "\u001b[1;31mValueError\u001b[0m: could not convert string to float: ''"
     ]
    }
   ],
   "source": [
    "# not possible \n",
    "# numbers = float(input(\"Ange tre tal (separerade med kommatecken): \"))\n",
    "\n",
    "numbers = input(\"Ange tre tal (separerade med kommatecken): \")\n",
    "# 1. split the string into a list of 3 strings\n",
    "# 2. type convert each string into a float by interating through the list\n",
    "\n",
    "# List comprehension\n",
    "numbers = [float(number) for number in numbers.split(\",\")]\n",
    "mean_vaule = sum(numbers)/len(numbers)\n",
    "print(f\"{numbers=}\")\n",
    "print(f\"{mean_value=}\")"
   ]
  },
  {
   "cell_type": "code",
   "execution_count": 11,
   "metadata": {},
   "outputs": [
    {
     "data": {
      "text/plain": [
       "['2', '3', '4']"
      ]
     },
     "execution_count": 11,
     "metadata": {},
     "output_type": "execute_result"
    }
   ],
   "source": [
    "numbers_test = \"2,3,4\"\n",
    "numbers_test.split(\",\")"
   ]
  },
  {
   "cell_type": "code",
   "execution_count": null,
   "metadata": {},
   "outputs": [],
   "source": [
    "help"
   ]
  }
 ],
 "metadata": {
  "kernelspec": {
   "display_name": "Python 3.9.13 ('python-pierre-pantnher-DhFWoSXf')",
   "language": "python",
   "name": "python3"
  },
  "language_info": {
   "codemirror_mode": {
    "name": "ipython",
    "version": 3
   },
   "file_extension": ".py",
   "mimetype": "text/x-python",
   "name": "python",
   "nbconvert_exporter": "python",
   "pygments_lexer": "ipython3",
   "version": "3.9.13"
  },
  "orig_nbformat": 4,
  "vscode": {
   "interpreter": {
    "hash": "75a18c220aa41daaf4f993e7955ce0e38b7fa9677b56fa1e93d39fad23a8c300"
   }
  }
 },
 "nbformat": 4,
 "nbformat_minor": 2
}
