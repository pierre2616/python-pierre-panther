{
 "cells": [
  {
   "cell_type": "markdown",
   "metadata": {},
   "source": [
    "# while loop\n",
    "\n",
    "- \"if-loop\"\n",
    "- as long as a condition is True -> the statement inside the loop will run\n",
    "\n",
    "```py\n",
    "while condition:\n",
    "    statements\n",
    "    ...\n",
    "\n",
    "program continues here\n",
    "```"
   ]
  },
  {
   "cell_type": "code",
   "execution_count": 1,
   "metadata": {},
   "outputs": [
    {
     "name": "stdout",
     "output_type": "stream",
     "text": [
      "Hej i=0\n",
      "Hej i=1\n",
      "Hej i=2\n",
      "Hej i=3\n",
      "Program continues here\n"
     ]
    }
   ],
   "source": [
    "i = 0\n",
    "\n",
    "while i < 4:\n",
    "    print(f\"Hej {i=}\")\n",
    "    i += 1 # adds one to i <=> i = i + 1\n",
    "print(\"Program continues here\")"
   ]
  },
  {
   "cell_type": "markdown",
   "metadata": {},
   "source": [
    "## Exemple - birds and oil\n",
    "\n",
    "There is an oil leakge causing the bird poputation in an island to 1/2 en each year. From start there were 80 000 birds, how many years does it take for it to have 1/10 remaining?"
   ]
  },
  {
   "cell_type": "code",
   "execution_count": 2,
   "metadata": {},
   "outputs": [
    {
     "name": "stdout",
     "output_type": "stream",
     "text": [
      "Year 1: number of birds 40000 left\n",
      "Year 2: number of birds 20000 left\n",
      "Year 3: number of birds 10000 left\n",
      "Year 4: number of birds 5000 left\n"
     ]
    }
   ],
   "source": [
    "birds, years = 80000, 0 #tuple unpacking\n",
    "\n",
    "limit = birds/10\n",
    "\n",
    "while birds >= limit:\n",
    "    birds /= 2\n",
    "    years += 1\n",
    "    print(f\"Year {years}: number of birds {birds:.0f} left\")"
   ]
  },
  {
   "cell_type": "markdown",
   "metadata": {},
   "source": [
    "## Example - Milk\n",
    "\n",
    "- 1L of milk has 1 500 000 bacterias in room temperature\n",
    "- Bacterias increase with 50% each hour in room temp\n",
    "- Milk get sour after 10 000 000 bacterias\n",
    "- How many hours does it take til milk sours (whole hours)"
   ]
  },
  {
   "cell_type": "code",
   "execution_count": null,
   "metadata": {},
   "outputs": [],
   "source": []
  }
 ],
 "metadata": {
  "kernelspec": {
   "display_name": "Python 3.9.13 ('python-pierre-pantnher-DhFWoSXf')",
   "language": "python",
   "name": "python3"
  },
  "language_info": {
   "codemirror_mode": {
    "name": "ipython",
    "version": 3
   },
   "file_extension": ".py",
   "mimetype": "text/x-python",
   "name": "python",
   "nbconvert_exporter": "python",
   "pygments_lexer": "ipython3",
   "version": "3.9.13"
  },
  "orig_nbformat": 4,
  "vscode": {
   "interpreter": {
    "hash": "75a18c220aa41daaf4f993e7955ce0e38b7fa9677b56fa1e93d39fad23a8c300"
   }
  }
 },
 "nbformat": 4,
 "nbformat_minor": 2
}
