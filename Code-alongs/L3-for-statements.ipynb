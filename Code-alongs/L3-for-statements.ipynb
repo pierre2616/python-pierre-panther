{
 "cells": [
  {
   "cell_type": "markdown",
   "metadata": {},
   "source": [
    "## For loop"
   ]
  },
  {
   "cell_type": "code",
   "execution_count": 2,
   "metadata": {},
   "outputs": [
    {
     "name": "stdout",
     "output_type": "stream",
     "text": [
      "0 hej\n",
      "1 hej\n",
      "2 hej\n",
      "3 hej\n",
      "4 hej\n"
     ]
    }
   ],
   "source": [
    "for i in range(5):\n",
    "    print (i, \"hej\")"
   ]
  },
  {
   "cell_type": "code",
   "execution_count": 3,
   "metadata": {},
   "outputs": [
    {
     "name": "stdout",
     "output_type": "stream",
     "text": [
      "0\t1\t2\t3\t4\t5\t6\t7\t8\t9\t"
     ]
    }
   ],
   "source": [
    "for i in range (10):\n",
    "    print (i, end = \"\\t\")"
   ]
  },
  {
   "cell_type": "code",
   "execution_count": 8,
   "metadata": {},
   "outputs": [
    {
     "name": "stdout",
     "output_type": "stream",
     "text": [
      "0+1+2+...+9 = 45\n"
     ]
    }
   ],
   "source": [
    "my_sum = 0\n",
    "\n",
    "for i in range (10):\n",
    "    my_sum += i\n",
    "\n",
    "print (f\"0+1+2+...+9 = {my_sum}\")"
   ]
  },
  {
   "cell_type": "code",
   "execution_count": 14,
   "metadata": {},
   "outputs": [
    {
     "name": "stdout",
     "output_type": "stream",
     "text": [
      "rabbit is cute\n",
      "guinea pig is cute\n",
      "cat is cute\n",
      "guppy is cute\n"
     ]
    }
   ],
   "source": [
    "cute_animals = [\"rabbit\", \"guinea pig\", \"cat\", \"guppy\"]\n",
    "\n",
    "for animal in cute_animals:\n",
    "    print(f\"{animal} is cute\")"
   ]
  },
  {
   "cell_type": "markdown",
   "metadata": {},
   "source": [
    "## Random module"
   ]
  },
  {
   "cell_type": "code",
   "execution_count": 18,
   "metadata": {},
   "outputs": [
    {
     "name": "stdout",
     "output_type": "stream",
     "text": [
      "1665601\n",
      "Proportion of sixes 0.1665601\n"
     ]
    }
   ],
   "source": [
    "import random as rnd\n",
    "\n",
    "number_sixes = 0\n",
    "number_rolls = 10000000\n",
    "\n",
    "for i in range(number_rolls):\n",
    "    dice = rnd.randint(1,6)\n",
    "    if dice == 6:\n",
    "        number_sixes += 1\n",
    "\n",
    "print (f\"{number_sixes}\")\n",
    "print (f\"Proportion of sixes {number_sixes/number_rolls}\")"
   ]
  },
  {
   "cell_type": "code",
   "execution_count": null,
   "metadata": {},
   "outputs": [],
   "source": []
  }
 ],
 "metadata": {
  "kernelspec": {
   "display_name": "Python 3.9.13 ('python-pierre-pantnher-DhFWoSXf')",
   "language": "python",
   "name": "python3"
  },
  "language_info": {
   "codemirror_mode": {
    "name": "ipython",
    "version": 3
   },
   "file_extension": ".py",
   "mimetype": "text/x-python",
   "name": "python",
   "nbconvert_exporter": "python",
   "pygments_lexer": "ipython3",
   "version": "3.9.13"
  },
  "orig_nbformat": 4,
  "vscode": {
   "interpreter": {
    "hash": "75a18c220aa41daaf4f993e7955ce0e38b7fa9677b56fa1e93d39fad23a8c300"
   }
  }
 },
 "nbformat": 4,
 "nbformat_minor": 2
}
