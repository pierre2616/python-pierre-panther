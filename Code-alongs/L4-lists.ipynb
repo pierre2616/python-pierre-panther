{
 "cells": [
  {
   "cell_type": "markdown",
   "metadata": {},
   "source": [
    "# Lists"
   ]
  },
  {
   "cell_type": "code",
   "execution_count": 1,
   "metadata": {},
   "outputs": [
    {
     "name": "stdout",
     "output_type": "stream",
     "text": [
      "['pizza', 'lasange', 'spaghetti', 'pancakes', 'banana', 'grapes']\n",
      "nice_foods[0]='pizza'\n",
      "nice_foods[-1]='grapes'\n",
      "nice_foods[5]='grapes'\n"
     ]
    }
   ],
   "source": [
    "# creates a new list with elements\n",
    "nice_foods = [\"pizza\", \"lasange\", \"spaghetti\", \"pancakes\", \"banana\", \"grapes\"]\n",
    "\n",
    "print(nice_foods)\n",
    "\n",
    "# gets first element\n",
    "print(f\"{nice_foods[0]=}\")\n",
    "# gets last element\n",
    "print(f\"{nice_foods[-1]=}\")\n",
    "print(f\"{nice_foods[5]=}\")"
   ]
  },
  {
   "cell_type": "code",
   "execution_count": null,
   "metadata": {},
   "outputs": [],
   "source": []
  }
 ],
 "metadata": {
  "kernelspec": {
   "display_name": "Python 3.9.13 ('python-pierre-pantnher-DhFWoSXf')",
   "language": "python",
   "name": "python3"
  },
  "language_info": {
   "codemirror_mode": {
    "name": "ipython",
    "version": 3
   },
   "file_extension": ".py",
   "mimetype": "text/x-python",
   "name": "python",
   "nbconvert_exporter": "python",
   "pygments_lexer": "ipython3",
   "version": "3.9.13"
  },
  "orig_nbformat": 4,
  "vscode": {
   "interpreter": {
    "hash": "75a18c220aa41daaf4f993e7955ce0e38b7fa9677b56fa1e93d39fad23a8c300"
   }
  }
 },
 "nbformat": 4,
 "nbformat_minor": 2
}
