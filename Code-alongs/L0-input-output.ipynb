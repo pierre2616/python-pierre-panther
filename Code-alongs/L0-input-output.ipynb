{
 "cells": [
  {
   "cell_type": "markdown",
   "metadata": {},
   "source": [
    "# Code-along - input - output"
   ]
  },
  {
   "cell_type": "code",
   "execution_count": 7,
   "metadata": {},
   "outputs": [
    {
     "name": "stdout",
     "output_type": "stream",
     "text": [
      "hej pierre, du är 32 gammal\n",
      "20\n"
     ]
    }
   ],
   "source": [
    "# variabel - data type string\n",
    "# create a variable (\"box\") and assigns a value\n",
    "name = \"pierre\"\n",
    "\n",
    "# variabel - data type float\n",
    "age = 32\n",
    "\n",
    "# this is an f-string (formatted string)\n",
    "print (f\"hej {name}, du är {age} gammal\")\n",
    "\n",
    "# reassigns\n",
    "# note: bad practice\n",
    "name = 20\n",
    "\n",
    "print (name)"
   ]
  },
  {
   "cell_type": "markdown",
   "metadata": {},
   "source": [
    "# inputs from user"
   ]
  },
  {
   "cell_type": "code",
   "execution_count": null,
   "metadata": {},
   "outputs": [],
   "source": [
    "name = input(\"What is your name?\")\n",
    "age = input(\"What is your age?\")\n",
    "\n",
    "print(f\"Hello {name}, you are {age} years old\")"
   ]
  },
  {
   "cell_type": "markdown",
   "metadata": {},
   "source": [
    "# Calculations"
   ]
  },
  {
   "cell_type": "code",
   "execution_count": 10,
   "metadata": {},
   "outputs": [
    {
     "name": "stdout",
     "output_type": "stream",
     "text": [
      "Your force is 608.84 N\n"
     ]
    }
   ],
   "source": [
    "gravity = 9.82\n",
    "mass = 62\n",
    "\n",
    "force = mass*gravity\n",
    "\n",
    "print(f\"Your force is {force} N\")"
   ]
  },
  {
   "cell_type": "code",
   "execution_count": null,
   "metadata": {},
   "outputs": [],
   "source": [
    "mass = input(\"Enter your mass (kg): \") \n",
    "force = mass*gravity"
   ]
  },
  {
   "cell_type": "code",
   "execution_count": 1,
   "metadata": {},
   "outputs": [
    {
     "ename": "NameError",
     "evalue": "name 'gravity' is not defined",
     "output_type": "error",
     "traceback": [
      "\u001b[1;31m---------------------------------------------------------------------------\u001b[0m",
      "\u001b[1;31mNameError\u001b[0m                                 Traceback (most recent call last)",
      "Cell \u001b[1;32mIn [1], line 4\u001b[0m\n\u001b[0;32m      1\u001b[0m mass \u001b[38;5;241m=\u001b[39m \u001b[38;5;28mfloat\u001b[39m(\u001b[38;5;28minput\u001b[39m(\u001b[38;5;124m\"\u001b[39m\u001b[38;5;124menter your mass (kg)\u001b[39m\u001b[38;5;124m\"\u001b[39m)) \u001b[38;5;66;03m#string\u001b[39;00m\n\u001b[0;32m      3\u001b[0m \u001b[38;5;66;03m# can´t  multiply string with a float\u001b[39;00m\n\u001b[1;32m----> 4\u001b[0m force \u001b[38;5;241m=\u001b[39m mass\u001b[38;5;241m*\u001b[39m\u001b[43mgravity\u001b[49m\n\u001b[0;32m      5\u001b[0m \u001b[38;5;66;03m# :.f -> rounds to 1 decimal\u001b[39;00m\n\u001b[0;32m      6\u001b[0m \u001b[38;5;28mprint\u001b[39m (\u001b[38;5;124mf\u001b[39m\u001b[38;5;124m\"\u001b[39m\u001b[38;5;132;01m{\u001b[39;00mforce\u001b[38;5;132;01m=:\u001b[39;00m\u001b[38;5;124m.1f\u001b[39m\u001b[38;5;132;01m}\u001b[39;00m\u001b[38;5;124mN\u001b[39m\u001b[38;5;124m\"\u001b[39m)\n",
      "\u001b[1;31mNameError\u001b[0m: name 'gravity' is not defined"
     ]
    }
   ],
   "source": [
    "mass = float(input(\"enter your mass (kg)\")) #string\n",
    "\n",
    "# can´t  multiply string with a float\n",
    "force = mass*gravity\n",
    "# :.f -> rounds to 1 decimal\n",
    "print (f\"{force=:.1f}N\")\n",
    "# <=> print (f\"force={force:.1f}N\")\n"
   ]
  },
  {
   "cell_type": "code",
   "execution_count": null,
   "metadata": {},
   "outputs": [],
   "source": []
  }
 ],
 "metadata": {
  "kernelspec": {
   "display_name": "Python 3.9.13 ('python-pierre-pantnher-DhFWoSXf')",
   "language": "python",
   "name": "python3"
  },
  "language_info": {
   "codemirror_mode": {
    "name": "ipython",
    "version": 3
   },
   "file_extension": ".py",
   "mimetype": "text/x-python",
   "name": "python",
   "nbconvert_exporter": "python",
   "pygments_lexer": "ipython3",
   "version": "3.9.13"
  },
  "orig_nbformat": 4,
  "vscode": {
   "interpreter": {
    "hash": "75a18c220aa41daaf4f993e7955ce0e38b7fa9677b56fa1e93d39fad23a8c300"
   }
  }
 },
 "nbformat": 4,
 "nbformat_minor": 2
}
