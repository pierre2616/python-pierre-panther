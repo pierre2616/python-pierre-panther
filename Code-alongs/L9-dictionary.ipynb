{
 "cells": [
  {
   "cell_type": "markdown",
   "metadata": {},
   "source": [
    "# Dictionary\n",
    "\n",
    "- datastructure that stores data in key:value pairs"
   ]
  },
  {
   "cell_type": "code",
   "execution_count": null,
   "metadata": {},
   "outputs": [],
   "source": []
  }
 ],
 "metadata": {
  "kernelspec": {
   "display_name": "Python 3.9.13 ('python-pierre-pantnher-DhFWoSXf')",
   "language": "python",
   "name": "python3"
  },
  "language_info": {
   "name": "python",
   "version": "3.9.13"
  },
  "orig_nbformat": 4,
  "vscode": {
   "interpreter": {
    "hash": "75a18c220aa41daaf4f993e7955ce0e38b7fa9677b56fa1e93d39fad23a8c300"
   }
  }
 },
 "nbformat": 4,
 "nbformat_minor": 2
}
