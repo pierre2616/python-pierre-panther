{
 "cells": [
  {
   "cell_type": "markdown",
   "metadata": {},
   "source": [
    "# Dictionary\n",
    "\n",
    "- datastructure that stores data in key:value pairs"
   ]
  },
  {
   "cell_type": "code",
   "execution_count": 3,
   "metadata": {},
   "outputs": [
    {
     "name": "stdout",
     "output_type": "stream",
     "text": [
      "person dictionary {'name': 'Kokchun', 'age': 32, 'work': 'AI teacher', 'intrests': ['math', 'yoga', 'gardening', 'programering', 'walking'], 'phone': 112}\n",
      "persons work: AI teacher\n",
      "persons age: 32\n",
      "persons intrests: ['math', 'yoga']\n",
      "Kokchun likes math\n",
      "Kokchun likes yoga\n",
      "Kokchun likes gardening\n",
      "Kokchun likes programering\n",
      "Kokchun likes walking\n"
     ]
    }
   ],
   "source": [
    "# create a dictionary with dict keyword\n",
    "person =dict(\n",
    "    name = \"Kokchun\",\n",
    "    age=32, \n",
    "    work=\"AI teacher\", \n",
    "    intrests=[\"math\", \"yoga\", \"gardening\", \"programering\", \"walking\"], \n",
    "    phone=112\n",
    ")\n",
    "\n",
    "print(f\"person dictionary {person}\")\n",
    "print(f\"persons work: {person['work']}\")\n",
    "print(f\"persons age: {person['age']}\")\n",
    "\n",
    "print(f\"persons intrests: {person['intrests'][:2]}\")\n",
    "\n",
    "for intrests in person[\"intrests\"]:\n",
    "    print(f\"Kokchun likes {intrests}\")\n",
    "\n"
   ]
  },
  {
   "cell_type": "code",
   "execution_count": 11,
   "metadata": {},
   "outputs": [
    {
     "name": "stdout",
     "output_type": "stream",
     "text": [
      "{'assign': 'assigns a value to a variable', 'dictionary': 'datastructure to store data in key-value pairs', 'method': 'a function bound to an object'}\n",
      "vi ska lära oss de här glosorna \n",
      "\n",
      "assign  -  assigns a value to a variable\n",
      "dictionary  -  datastructure to store data in key-value pairs\n",
      "method  -  a function bound to an object\n"
     ]
    }
   ],
   "source": [
    "# create a dictionary with curly brace {}\n",
    "words = {\n",
    "    \"assign\": \"assigns a value to a variable\",\n",
    "    \"dictionary\": \"datastructure to store data in key-value pairs\",\n",
    "    \"method\": \"a function bound to an object\",\n",
    "}\n",
    "\n",
    "print(words)\n",
    "print(\"vi ska lära oss de här glosorna \\n\")\n",
    "\n",
    "for key in words:\n",
    "        print(key,\" - \" ,words[key])"
   ]
  },
  {
   "cell_type": "code",
   "execution_count": 17,
   "metadata": {},
   "outputs": [
    {
     "name": "stdout",
     "output_type": "stream",
     "text": [
      "Glosor \n",
      "\n",
      "assign              assigns a value to a variable\n",
      "dictionary          datastructure to store data in key-value pairs\n",
      "method              a function bound to an object\n",
      "....................\n"
     ]
    }
   ],
   "source": [
    "print(\"Glosor \\n\")\n",
    "for key, value in words.items():\n",
    "    print(f\"{key:<20}{value}\") # :<20 -> right align with width 20\n",
    "\n",
    "print(\".\"*20)"
   ]
  },
  {
   "cell_type": "code",
   "execution_count": 23,
   "metadata": {},
   "outputs": [
    {
     "name": "stdout",
     "output_type": "stream",
     "text": [
      "{'F': 0, 'E': 10, 'D': 20, 'C': 30, 'B': 40, 'A': 50}\n",
      "{'F': '< 10', 'E': 10, 'D': 20, 'C': 30, 'B': 40, 'A': 50, 'Course': 'Programmering 1'}\n"
     ]
    }
   ],
   "source": [
    "# F < 10, E: 10, D: 20, C: 30, B: 40, A: 50 \n",
    "\n",
    "#empty dictionary\n",
    "grade_limit = {}\n",
    "\n",
    "for i, character in enumerate(\"ABCDEF\"[::-1]):\n",
    "    grade_limit[character] = i*10\n",
    "\n",
    "print(grade_limit)\n",
    "\n",
    "#assigns a new value that is associated with the key F\n",
    "grade_limit[\"F\"] = \"< 10\"\n",
    "grade_limit[\"Course\"] = \"Programmering 1\"\n",
    "\n",
    "print(grade_limit)"
   ]
  },
  {
   "cell_type": "markdown",
   "metadata": {},
   "source": [
    "## Dictionary comprehension"
   ]
  },
  {
   "cell_type": "code",
   "execution_count": 35,
   "metadata": {},
   "outputs": [
    {
     "name": "stdout",
     "output_type": "stream",
     "text": [
      "grade_limit={'F': 0, 'E': 10, 'D': 20, 'C': 30, 'B': 40, 'A': 50}\n",
      "scores=[39, 59, 34, 45, 23, 36, 37, 46, 10, 49, 52, 21, 24, 40, 50, 23, 58, 19, 25, 44, 13, 48, 42, 55, 58, 23, 6, 27, 52, 40]\n",
      "{'F': 1, 'E': 3, 'D': 7, 'C': 4, 'B': 8, 'A': 7}\n"
     ]
    }
   ],
   "source": [
    "import random as rnd\n",
    "\n",
    "grade_limit = {grade: i*10 for i, grade in enumerate(\"ABCDEF\"[::-1])}\n",
    "\n",
    "def generate_scores(number_students):\n",
    "    rnd.seed(1337)\n",
    "    scores = [rnd.randint(0,60)for _ in range(number_students)]\n",
    "    return scores\n",
    "\n",
    "scores = generate_scores(30)\n",
    "\n",
    "print(f\"{grade_limit=}\")\n",
    "print(f\"{scores=}\")\n",
    "\n",
    "# number of students in each grade category\n",
    "students_in_grade = {key: 0 for key in grade_limit}\n",
    "\n",
    "for score in scores:\n",
    "    for grade, limit in grade_limit.items():\n",
    "        if limit <= score < limit+10:\n",
    "            students_in_grade[grade] += 1\n",
    "\n",
    "print(students_in_grade)"
   ]
  },
  {
   "cell_type": "code",
   "execution_count": 36,
   "metadata": {},
   "outputs": [
    {
     "data": {
      "text/plain": [
       "30"
      ]
     },
     "execution_count": 36,
     "metadata": {},
     "output_type": "execute_result"
    }
   ],
   "source": [
    "# check that all students have been put into categories\n",
    "total_students = 0\n",
    "for _, number_students in students_in_grade.items():\n",
    "    total_students += number_students\n",
    "\n",
    "total_students\n"
   ]
  },
  {
   "cell_type": "code",
   "execution_count": null,
   "metadata": {},
   "outputs": [],
   "source": []
  }
 ],
 "metadata": {
  "kernelspec": {
   "display_name": "Python 3.9.13 ('python-pierre-pantnher-DhFWoSXf')",
   "language": "python",
   "name": "python3"
  },
  "language_info": {
   "codemirror_mode": {
    "name": "ipython",
    "version": 3
   },
   "file_extension": ".py",
   "mimetype": "text/x-python",
   "name": "python",
   "nbconvert_exporter": "python",
   "pygments_lexer": "ipython3",
   "version": "3.9.13"
  },
  "orig_nbformat": 4,
  "vscode": {
   "interpreter": {
    "hash": "75a18c220aa41daaf4f993e7955ce0e38b7fa9677b56fa1e93d39fad23a8c300"
   }
  }
 },
 "nbformat": 4,
 "nbformat_minor": 2
}
