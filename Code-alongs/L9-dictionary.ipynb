{
 "cells": [
  {
   "cell_type": "markdown",
   "metadata": {},
   "source": [
    "# Dictionary\n",
    "\n",
    "- datastructure that stores data in key:value pairs"
   ]
  },
  {
   "cell_type": "code",
   "execution_count": 3,
   "metadata": {},
   "outputs": [
    {
     "name": "stdout",
     "output_type": "stream",
     "text": [
      "person dictionary {'name': 'Kokchun', 'age': 32, 'work': 'AI teacher', 'intrests': ['math', 'yoga', 'gardening', 'programering', 'walking'], 'phone': 112}\n",
      "persons work: AI teacher\n",
      "persons age: 32\n",
      "persons intrests: ['math', 'yoga']\n",
      "Kokchun likes math\n",
      "Kokchun likes yoga\n",
      "Kokchun likes gardening\n",
      "Kokchun likes programering\n",
      "Kokchun likes walking\n"
     ]
    }
   ],
   "source": [
    "# create a dictionary with dict keyword\n",
    "person =dict(\n",
    "    name = \"Kokchun\",\n",
    "    age=32, \n",
    "    work=\"AI teacher\", \n",
    "    intrests=[\"math\", \"yoga\", \"gardening\", \"programering\", \"walking\"], \n",
    "    phone=112\n",
    ")\n",
    "\n",
    "print(f\"person dictionary {person}\")\n",
    "print(f\"persons work: {person['work']}\")\n",
    "print(f\"persons age: {person['age']}\")\n",
    "\n",
    "print(f\"persons intrests: {person['intrests'][:2]}\")\n",
    "\n",
    "for intrests in person[\"intrests\"]:\n",
    "    print(f\"Kokchun likes {intrests}\")\n",
    "\n"
   ]
  },
  {
   "cell_type": "code",
   "execution_count": 11,
   "metadata": {},
   "outputs": [
    {
     "name": "stdout",
     "output_type": "stream",
     "text": [
      "{'assign': 'assigns a value to a variable', 'dictionary': 'datastructure to store data in key-value pairs', 'method': 'a function bound to an object'}\n",
      "vi ska lära oss de här glosorna \n",
      "\n",
      "assign  -  assigns a value to a variable\n",
      "dictionary  -  datastructure to store data in key-value pairs\n",
      "method  -  a function bound to an object\n"
     ]
    }
   ],
   "source": [
    "# create a dictionary with curly brace {}\n",
    "words = {\n",
    "    \"assign\": \"assigns a value to a variable\",\n",
    "    \"dictionary\": \"datastructure to store data in key-value pairs\",\n",
    "    \"method\": \"a function bound to an object\",\n",
    "}\n",
    "\n",
    "print(words)\n",
    "print(\"vi ska lära oss de här glosorna \\n\")\n",
    "\n",
    "for key in words:\n",
    "        print(key,\" - \" ,words[key])"
   ]
  },
  {
   "cell_type": "code",
   "execution_count": 17,
   "metadata": {},
   "outputs": [
    {
     "name": "stdout",
     "output_type": "stream",
     "text": [
      "Glosor \n",
      "\n",
      "assign              assigns a value to a variable\n",
      "dictionary          datastructure to store data in key-value pairs\n",
      "method              a function bound to an object\n",
      "....................\n"
     ]
    }
   ],
   "source": [
    "print(\"Glosor \\n\")\n",
    "for key, value in words.items():\n",
    "    print(f\"{key:<20}{value}\") # :<20 -> right align with width 20\n",
    "\n",
    "print(\".\"*20)"
   ]
  },
  {
   "cell_type": "code",
   "execution_count": null,
   "metadata": {},
   "outputs": [],
   "source": []
  }
 ],
 "metadata": {
  "kernelspec": {
   "display_name": "Python 3.9.13 ('python-pierre-pantnher-DhFWoSXf')",
   "language": "python",
   "name": "python3"
  },
  "language_info": {
   "codemirror_mode": {
    "name": "ipython",
    "version": 3
   },
   "file_extension": ".py",
   "mimetype": "text/x-python",
   "name": "python",
   "nbconvert_exporter": "python",
   "pygments_lexer": "ipython3",
   "version": "3.9.13"
  },
  "orig_nbformat": 4,
  "vscode": {
   "interpreter": {
    "hash": "75a18c220aa41daaf4f993e7955ce0e38b7fa9677b56fa1e93d39fad23a8c300"
   }
  }
 },
 "nbformat": 4,
 "nbformat_minor": 2
}
