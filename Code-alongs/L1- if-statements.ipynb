{
 "cells": [
  {
   "cell_type": "markdown",
   "metadata": {},
   "source": [
    "# If-statements"
   ]
  },
  {
   "cell_type": "markdown",
   "metadata": {},
   "source": [
    "# if-else"
   ]
  },
  {
   "cell_type": "code",
   "execution_count": 1,
   "metadata": {},
   "outputs": [
    {
     "name": "stdout",
     "output_type": "stream",
     "text": [
      "du är 16 år gammal, gränsen är 18\n",
      "du får inte gå in i pubben\n"
     ]
    }
   ],
   "source": [
    "age = int(input(\"hur gammal är du?\"))\n",
    "\n",
    "if age < 18:\n",
    "    print (f\"du är {age} år gammal, gränsen är 18\")\n",
    "    print (\"du får inte gå in i pubben\")\n",
    "else:\n",
    "    print (\"välkommen in\")\n"
   ]
  },
  {
   "cell_type": "code",
   "execution_count": 2,
   "metadata": {},
   "outputs": [
    {
     "name": "stdout",
     "output_type": "stream",
     "text": [
      "du får åka balder\n"
     ]
    }
   ],
   "source": [
    "age = 15\n",
    "height = 135\n",
    "\n",
    "if age > 10 and height > 130:\n",
    "    print (\"du får åka balder\")\n",
    "else:\n",
    "    print (\"du får inte åka balder\")"
   ]
  },
  {
   "cell_type": "markdown",
   "metadata": {},
   "source": [
    "# Modulo operator %\n",
    "\n",
    "gives the rest after an integer divission\n",
    "\n",
    "ex\n",
    "\n",
    "5 % 3 = 2\n",
    "22 % 9 = 4"
   ]
  },
  {
   "cell_type": "code",
   "execution_count": 7,
   "metadata": {},
   "outputs": [
    {
     "name": "stdout",
     "output_type": "stream",
     "text": [
      "jämnt tal\n"
     ]
    }
   ],
   "source": [
    "number = 42\n",
    "\n",
    "# 2 equal signs => checks if left is equal to right\n",
    "if number % 2 ==0:\n",
    "    print (\"jämnt tal\")\n"
   ]
  },
  {
   "cell_type": "code",
   "execution_count": 3,
   "metadata": {},
   "outputs": [
    {
     "name": "stdout",
     "output_type": "stream",
     "text": [
      "3==4: False\n",
      "3==3: True\n",
      "3>=3: True\n",
      "3!=3: False\n"
     ]
    }
   ],
   "source": [
    "print (f\"3==4: {3 == 4}\")\n",
    "print (f\"3==3: {3 == 3}\")\n",
    "print (f\"3>=3: {3 >= 3}\")\n",
    "print (f\"3!=3: {3 != 3}\")"
   ]
  },
  {
   "cell_type": "markdown",
   "metadata": {},
   "source": [
    "## if - elif - else\n",
    "\n",
    "```py\n",
    "if codition:\n",
    "    statement_1\n",
    "    ...\n",
    "    statement_n\n",
    "elif condition:\n",
    "    statement_1 \n",
    "    ...\n",
    "    statement_n\n",
    "...\n",
    "elif condition:\n",
    "    ...\n",
    "else:\n",
    "    ...\n",
    "program continues"
   ]
  },
  {
   "cell_type": "code",
   "execution_count": 4,
   "metadata": {},
   "outputs": [
    {
     "name": "stdout",
     "output_type": "stream",
     "text": [
      "weight='34'\n",
      "34.0\n",
      "give patient 750mg\n"
     ]
    }
   ],
   "source": [
    "# weight is a string here\n",
    "weight = (input (\"enter patients weight (kg): \"))\n",
    "print (f\"{weight=}\")\n",
    "\n",
    "# now we convert it to a float\n",
    "weight = float(weight)\n",
    "print(f\"{weight}\")\n",
    "\n",
    "if weight < 20:\n",
    "    print (\"give patient 500mg\")\n",
    "elif weight < 40:\n",
    "    print (\"give patient 750mg\")\n",
    "else:\n",
    "        print (\"give patient 1000mg\")\n",
    "\n"
   ]
  },
  {
   "cell_type": "markdown",
   "metadata": {},
   "source": [
    "### Nested if-statements"
   ]
  },
  {
   "cell_type": "code",
   "execution_count": 8,
   "metadata": {},
   "outputs": [
    {
     "name": "stdout",
     "output_type": "stream",
     "text": [
      "10 divisable by 5\n",
      "even number\n"
     ]
    }
   ],
   "source": [
    "number = 10\n",
    "\n",
    "if number % 5 == 0:\n",
    "    print (f\"{number} divisable by 5\")\n",
    "    if number % 2 == 0:\n",
    "        print (\"even number\")\n",
    "    else:\n",
    "        print (\"odd number\")\n",
    "else:\n",
    "    print (\"not divisable by 5\")"
   ]
  },
  {
   "cell_type": "code",
   "execution_count": null,
   "metadata": {},
   "outputs": [],
   "source": []
  }
 ],
 "metadata": {
  "kernelspec": {
   "display_name": "Python 3.9.13 ('python-pierre-pantnher-DhFWoSXf')",
   "language": "python",
   "name": "python3"
  },
  "language_info": {
   "codemirror_mode": {
    "name": "ipython",
    "version": 3
   },
   "file_extension": ".py",
   "mimetype": "text/x-python",
   "name": "python",
   "nbconvert_exporter": "python",
   "pygments_lexer": "ipython3",
   "version": "3.9.13"
  },
  "orig_nbformat": 4,
  "vscode": {
   "interpreter": {
    "hash": "75a18c220aa41daaf4f993e7955ce0e38b7fa9677b56fa1e93d39fad23a8c300"
   }
  }
 },
 "nbformat": 4,
 "nbformat_minor": 2
}
