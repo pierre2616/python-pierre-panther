{
 "cells": [
  {
   "cell_type": "markdown",
   "metadata": {},
   "source": [
    "# Numpy"
   ]
  },
  {
   "cell_type": "code",
   "execution_count": 5,
   "metadata": {},
   "outputs": [
    {
     "name": "stdout",
     "output_type": "stream",
     "text": [
      "[1, 2, 3, 1, 2, 3]\n",
      "[1, 'ett', True, 2.3]\n"
     ]
    }
   ],
   "source": [
    "numbers_list = [1,2,3]\n",
    "numbers_list = numbers_list*2\n",
    "print(numbers_list)\n",
    "\n",
    "# in a list we can place different data types\n",
    "mixed_list = [1, \"ett\", True, 2.3] # dynamic typing in python\n",
    "# element in the list is an object, it has information on what type it is\n",
    "# this requiers some overhead, wich slows down the program\n",
    "# note that when we have one data type, it is unnecessary to have this overhead\n",
    "print(mixed_list)"
   ]
  },
  {
   "cell_type": "code",
   "execution_count": 11,
   "metadata": {},
   "outputs": [
    {
     "name": "stdout",
     "output_type": "stream",
     "text": [
      "[2 5 1]\n",
      "[ 4 10  2]\n",
      "vector1+2=array([4, 7, 3])\n",
      "vector1[2]=1\n",
      "vector1[-1]=1\n",
      "vector1[1:]=array([5, 1])\n",
      "[   2 1337    1]\n",
      "vector1=array([   1,    2, 1337])\n",
      "vector1.sum()=1340\n",
      "vector1.mean()=446.67\n"
     ]
    }
   ],
   "source": [
    "# in numpy we have statically typed\n",
    "import numpy as np\n",
    "\n",
    "# create an array from a list\n",
    "vector1 = np.array([2,5,1])\n",
    "print(vector1)\n",
    "\n",
    "#elementwise miltiplication\n",
    "vector2 = vector1*2\n",
    "print(vector2)\n",
    "\n",
    "print(f\"{vector1+2=}\")\n",
    "\n",
    "# indexing\n",
    "print(f\"{vector1[2]=}\")\n",
    "print(f\"{vector1[-1]=}\")\n",
    "# slicing\n",
    "print(f\"{vector1[1:]=}\")\n",
    "\n",
    "vector1[1] = 1337\n",
    "print(vector1)\n",
    "\n",
    "# can´t append to an array - can´t cange it´s size\n",
    "# can´t have different types in an array\n",
    "\n",
    "# sort\n",
    "vector1.sort()\n",
    "print(f\"{vector1=}\")\n",
    "\n",
    "# sum\n",
    "print(f\"{vector1.sum()=}\")\n",
    "print(f\"{vector1.mean()=:.2f}\")"
   ]
  },
  {
   "cell_type": "code",
   "execution_count": 18,
   "metadata": {},
   "outputs": [
    {
     "name": "stdout",
     "output_type": "stream",
     "text": [
      "ones_vector=array([1., 1., 1., 1., 1., 1., 1., 1., 1., 1.])\n",
      "[[1. 1. 1.]\n",
      " [1. 1. 1.]\n",
      " [1. 1. 1.]]\n"
     ]
    },
    {
     "data": {
      "text/plain": [
       "array([[ 1.,  1.,  1.],\n",
       "       [ 1.,  1.,  1.],\n",
       "       [ 1., 10.,  1.]])"
      ]
     },
     "execution_count": 18,
     "metadata": {},
     "output_type": "execute_result"
    }
   ],
   "source": [
    "ones_vector = np.ones(10)\n",
    "print(f\"{ones_vector=}\")\n",
    "\n",
    "# 2d array of shape (3,3)\n",
    "matrix_3x3 = np.ones((3,3))\n",
    "\n",
    "print(f\"{matrix_3x3}\")\n",
    "\n",
    "# [row, index] - counts fron 0\n",
    "matrix_3x3[2,1] = 10\n",
    "\n",
    "matrix_3x3\n"
   ]
  },
  {
   "cell_type": "code",
   "execution_count": 19,
   "metadata": {},
   "outputs": [
    {
     "data": {
      "text/plain": [
       "array([[0., 0., 0., 0., 0.],\n",
       "       [0., 0., 0., 0., 0.]])"
      ]
     },
     "execution_count": 19,
     "metadata": {},
     "output_type": "execute_result"
    }
   ],
   "source": [
    "np.zeros([2,5]) # shapelike - takes in a tuple or a list"
   ]
  },
  {
   "cell_type": "code",
   "execution_count": 23,
   "metadata": {},
   "outputs": [
    {
     "name": "stdout",
     "output_type": "stream",
     "text": [
      "(3, 3)\n",
      "matrix_3x3[2,:]=array([ 1., 10.,  1.])\n",
      "matrix_3x3[:,1]=array([ 1.,  1., 10.])\n"
     ]
    },
    {
     "data": {
      "text/plain": [
       "array([ 2., 11., 11.])"
      ]
     },
     "execution_count": 23,
     "metadata": {},
     "output_type": "execute_result"
    }
   ],
   "source": [
    "print(matrix_3x3.shape)\n",
    "\n",
    "# slicing opreator to get a row\n",
    "print(f\"{matrix_3x3[2,:]=}\")\n",
    "\n",
    "# slicing operator to get a column\n",
    "print(f\"{matrix_3x3[:,1]=}\")\n",
    "\n",
    "# add 2 vectors\n",
    "matrix_3x3[2,:] + matrix_3x3[:,1]"
   ]
  },
  {
   "cell_type": "markdown",
   "metadata": {},
   "source": [
    "# Dice simulations"
   ]
  },
  {
   "cell_type": "code",
   "execution_count": 24,
   "metadata": {},
   "outputs": [
    {
     "data": {
      "text/plain": [
       "array([3, 2, 1, 4, 1, 3, 1, 1, 2, 3, 5, 1, 1, 5, 4, 5, 4, 6, 4, 2, 1, 2,\n",
       "       2, 4, 3, 2, 1, 1, 5, 2, 3, 4, 6, 1, 5, 1, 4, 5, 3, 4, 2, 2, 2, 5,\n",
       "       4, 6, 4, 5, 5, 3, 4, 4, 2, 3, 5, 5, 3, 5, 4, 2, 4, 5, 6, 5, 1, 4,\n",
       "       2, 5, 4, 2, 4, 4, 5, 4, 6, 5, 5, 2, 2, 2, 4, 5, 6, 5, 3, 5, 1, 5,\n",
       "       5, 3, 3, 2, 6, 4, 5, 6, 4, 4, 4, 1])"
      ]
     },
     "execution_count": 24,
     "metadata": {},
     "output_type": "execute_result"
    }
   ],
   "source": [
    "import matplotlib.pyplot as plt\n",
    "\n",
    "dices = np.random.randint(1, 7, 100)\n",
    "dices"
   ]
  },
  {
   "cell_type": "code",
   "execution_count": 25,
   "metadata": {},
   "outputs": [
    {
     "name": "stdout",
     "output_type": "stream",
     "text": [
      "(50,)\n"
     ]
    },
    {
     "data": {
      "text/plain": [
       "array([-5.        , -4.79591837, -4.59183673, -4.3877551 , -4.18367347,\n",
       "       -3.97959184, -3.7755102 , -3.57142857, -3.36734694, -3.16326531,\n",
       "       -2.95918367, -2.75510204, -2.55102041, -2.34693878, -2.14285714,\n",
       "       -1.93877551, -1.73469388, -1.53061224, -1.32653061, -1.12244898,\n",
       "       -0.91836735, -0.71428571, -0.51020408, -0.30612245, -0.10204082,\n",
       "        0.10204082,  0.30612245,  0.51020408,  0.71428571,  0.91836735,\n",
       "        1.12244898,  1.32653061,  1.53061224,  1.73469388,  1.93877551,\n",
       "        2.14285714,  2.34693878,  2.55102041,  2.75510204,  2.95918367,\n",
       "        3.16326531,  3.36734694,  3.57142857,  3.7755102 ,  3.97959184,\n",
       "        4.18367347,  4.3877551 ,  4.59183673,  4.79591837,  5.        ])"
      ]
     },
     "execution_count": 25,
     "metadata": {},
     "output_type": "execute_result"
    }
   ],
   "source": [
    "x = np.linspace(-5,5) # default 50 equally spaced numbers between low and high\n",
    "print(x.shape)\n",
    "x"
   ]
  },
  {
   "cell_type": "code",
   "execution_count": 27,
   "metadata": {},
   "outputs": [
    {
     "name": "stdout",
     "output_type": "stream",
     "text": [
      "[-3.         -2.79591837 -2.59183673 -2.3877551  -2.18367347 -1.97959184\n",
      " -1.7755102  -1.57142857 -1.36734694 -1.16326531 -0.95918367 -0.75510204\n",
      " -0.55102041 -0.34693878 -0.14285714  0.06122449  0.26530612  0.46938776\n",
      "  0.67346939  0.87755102  1.08163265  1.28571429  1.48979592  1.69387755\n",
      "  1.89795918  2.10204082  2.30612245  2.51020408  2.71428571  2.91836735\n",
      "  3.12244898  3.32653061  3.53061224  3.73469388  3.93877551  4.14285714\n",
      "  4.34693878  4.55102041  4.75510204  4.95918367  5.16326531  5.36734694\n",
      "  5.57142857  5.7755102   5.97959184  6.18367347  6.3877551   6.59183673\n",
      "  6.79591837  7.        ]\n"
     ]
    },
    {
     "data": {
      "text/plain": [
       "[<matplotlib.lines.Line2D at 0x2aea3c6b670>]"
      ]
     },
     "execution_count": 27,
     "metadata": {},
     "output_type": "execute_result"
    },
    {
     "data": {
      "image/png": "[encoded data removed]",
      "text/plain": [
       "<Figure size 640x480 with 1 Axes>"
      ]
     },
     "metadata": {},
     "output_type": "display_data"
    }
   ],
   "source": [
    "import matplotlib.pyplot as plt\n",
    "\n",
    "# <=> def f(x): return x + 2\n",
    "f = lambda x: x+2\n",
    "\n",
    "print(f(x))\n",
    "plt.plot(x, f(x))"
   ]
  },
  {
   "cell_type": "code",
   "execution_count": 28,
   "metadata": {},
   "outputs": [
    {
     "data": {
      "text/plain": [
       "array([0, 1, 2, 3, 4, 5, 6, 7, 8, 9])"
      ]
     },
     "execution_count": 28,
     "metadata": {},
     "output_type": "execute_result"
    }
   ],
   "source": [
    "np.arange(10)"
   ]
  },
  {
   "cell_type": "markdown",
   "metadata": {},
   "source": [
    "# Performance"
   ]
  },
  {
   "cell_type": "code",
   "execution_count": 31,
   "metadata": {},
   "outputs": [
    {
     "name": "stdout",
     "output_type": "stream",
     "text": [
      "1.17 s ± 35.6 ms per loop (mean ± std. dev. of 7 runs, 1 loop each)\n"
     ]
    }
   ],
   "source": [
    "%%timeit\n",
    "import random as rnd\n",
    "\n",
    "number_dices = 1_000_000 \n",
    "\n",
    "many_dices = []\n",
    "\n",
    "for dice in range (number_dices):\n",
    "    many_dices.append(rnd.randint(1,6))\n",
    "\n",
    "many_dices"
   ]
  },
  {
   "cell_type": "code",
   "execution_count": 33,
   "metadata": {},
   "outputs": [
    {
     "name": "stdout",
     "output_type": "stream",
     "text": [
      "1.08 s ± 17.3 ms per loop (mean ± std. dev. of 7 runs, 1 loop each)\n"
     ]
    }
   ],
   "source": [
    "%%timeit\n",
    "import random as rnd\n",
    "\n",
    "number_dices = 1_000_000\n",
    "\n",
    "many_dices = [rnd.randint(1,6) for _ in range(number_dices)]"
   ]
  },
  {
   "cell_type": "code",
   "execution_count": 39,
   "metadata": {},
   "outputs": [
    {
     "name": "stdout",
     "output_type": "stream",
     "text": [
      "14.7 ms ± 152 µs per loop (mean ± std. dev. of 7 runs, 100 loops each)\n"
     ]
    }
   ],
   "source": [
    "%%timeit\n",
    "import random as rnd\n",
    "\n",
    "number_dices = 1_000_000\n",
    "\n",
    "many_dices = np.random.randint(1,7, number_dices)"
   ]
  },
  {
   "cell_type": "code",
   "execution_count": null,
   "metadata": {},
   "outputs": [],
   "source": []
  }
 ],
 "metadata": {
  "kernelspec": {
   "display_name": "Python 3.9.13 ('python-pierre-pantnher-DhFWoSXf')",
   "language": "python",
   "name": "python3"
  },
  "language_info": {
   "codemirror_mode": {
    "name": "ipython",
    "version": 3
   },
   "file_extension": ".py",
   "mimetype": "text/x-python",
   "name": "python",
   "nbconvert_exporter": "python",
   "pygments_lexer": "ipython3",
   "version": "3.9.13"
  },
  "orig_nbformat": 4,
  "vscode": {
   "interpreter": {
    "hash": "75a18c220aa41daaf4f993e7955ce0e38b7fa9677b56fa1e93d39fad23a8c300"
   }
  }
 },
 "nbformat": 4,
 "nbformat_minor": 2
}
